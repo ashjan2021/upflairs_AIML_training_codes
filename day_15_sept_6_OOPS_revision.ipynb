{
 "cells": [
  {
   "cell_type": "code",
   "execution_count": 13,
   "metadata": {},
   "outputs": [
    {
     "name": "stdout",
     "output_type": "stream",
     "text": [
      "constructor executed\n",
      "constructor executed\n",
      "ashish\n",
      "IT\n",
      "101\n",
      "harsh\n",
      "IT\n",
      "102\n"
     ]
    }
   ],
   "source": [
    "class Student:\n",
    "    def __init__(self,name,branch,roll):\n",
    "        self.student_name = name\n",
    "        self.student_branch = branch\n",
    "        self.student_roll_no = roll\n",
    "        print('constructor executed')\n",
    "\n",
    "    def display(self):  #function in a constructor -> method\n",
    "        print(self.student_name) #obj.student_name\n",
    "        print(self.student_branch)\n",
    "        print(self.student_roll_no)\n",
    "\n",
    "obj1 = Student(name = \"ashish\",branch = \"IT\",roll = 101)\n",
    "obj2 = Student(name = \"harsh\",branch = \"IT\",roll = 102)\n",
    "\n",
    "obj1.display()\n",
    "obj2.display()\n"
   ]
  },
  {
   "cell_type": "code",
   "execution_count": 6,
   "metadata": {},
   "outputs": [
    {
     "name": "stdout",
     "output_type": "stream",
     "text": [
      "ashish\n",
      "harsh\n"
     ]
    }
   ],
   "source": [
    "print(obj1.student_name)\n",
    "print(obj2.student_name)"
   ]
  },
  {
   "cell_type": "code",
   "execution_count": 8,
   "metadata": {},
   "outputs": [
    {
     "name": "stdout",
     "output_type": "stream",
     "text": [
      "aman\n"
     ]
    }
   ],
   "source": [
    "obj1.student_name = \"aman\"\n",
    "print(obj1.student_name)\n",
    "\n"
   ]
  },
  {
   "cell_type": "code",
   "execution_count": 1,
   "metadata": {},
   "outputs": [
    {
     "name": "stdout",
     "output_type": "stream",
     "text": [
      "254\n",
      "7\n",
      "36.285714285714285\n"
     ]
    }
   ],
   "source": [
    "class Average:\n",
    "    def __init__(self):\n",
    "        self.student_name = \"rahul\"\n",
    "        self.score = [25,34,53,22,34,54,32]\n",
    "\n",
    "    def average_finder(self):\n",
    "        sum = 0\n",
    "        count = 0\n",
    "\n",
    "        for i in self.score:\n",
    "            sum += i\n",
    "            count +=1\n",
    "        \n",
    "        self.avg = sum/count\n",
    "\n",
    "        print(sum)\n",
    "        print(count)\n",
    "        print(self.avg)\n",
    "\n",
    "obj = Average()\n",
    "obj.average_finder()\n"
   ]
  },
  {
   "cell_type": "code",
   "execution_count": 4,
   "metadata": {},
   "outputs": [
    {
     "name": "stdout",
     "output_type": "stream",
     "text": [
      "[25, 26, 24, 23, 28, 29, 24, 6, 75, 45, 56, 12, 31, 35, 37]\n"
     ]
    }
   ],
   "source": [
    "score = [25,26,24,23,28,29,24,6,75,45,56,12,31,35,37]\n",
    "\n",
    "print(score)"
   ]
  },
  {
   "cell_type": "code",
   "execution_count": 31,
   "metadata": {},
   "outputs": [
    {
     "name": "stdout",
     "output_type": "stream",
     "text": [
      "176\n"
     ]
    }
   ],
   "source": [
    "sum = 0\n",
    "for i in score:\n",
    "    if (i%2 == 0):\n",
    "        sum += i\n",
    "    \n",
    "    \n",
    "print(sum)"
   ]
  },
  {
   "cell_type": "code",
   "execution_count": 3,
   "metadata": {},
   "outputs": [
    {
     "name": "stdout",
     "output_type": "stream",
     "text": [
      "176\n"
     ]
    }
   ],
   "source": [
    "class Test:\n",
    "    def __init__(self):\n",
    "        self.score = [25,26,24,23,28,29,24,6,75,45,56,12,31,35,37]\n",
    "\n",
    "    def sum_finder(self):\n",
    "        sum = 0\n",
    "        for i in self.score:\n",
    "            if (i%2 == 0):\n",
    "                sum += i\n",
    "    \n",
    "        print(sum)\n",
    "        \n",
    "        \n",
    "obj = Test()\n",
    "obj.sum_finder()\n",
    "        "
   ]
  },
  {
   "cell_type": "code",
   "execution_count": 37,
   "metadata": {},
   "outputs": [
    {
     "name": "stdout",
     "output_type": "stream",
     "text": [
      "4\n"
     ]
    }
   ],
   "source": [
    "score = [25,26,24,23,28,29,24,6,75,45,56,12,31,35,37]\n",
    "count = 0\n",
    "target = int(input(\"Enter the element to be searched: \"))  \n",
    "for item in score:\n",
    "    if item == target:\n",
    "        print(count)\n",
    "    count +=1"
   ]
  },
  {
   "cell_type": "code",
   "execution_count": 8,
   "metadata": {},
   "outputs": [
    {
     "name": "stdout",
     "output_type": "stream",
     "text": [
      "3\n"
     ]
    }
   ],
   "source": [
    "class ABC:\n",
    "    def __init__(self):\n",
    "        self.score = [25,26,24,23,28,29,24,6,75,45,56,12,31,35,37]\n",
    "\n",
    "    def linear_search(self,target):\n",
    "        self.count = 0\n",
    "        for item in self.score:\n",
    "            if item == target:\n",
    "                print(self.count)\n",
    "            self.count +=1\n",
    "\n",
    "obj = ABC()\n",
    "obj.linear_search(23)"
   ]
  }
 ],
 "metadata": {
  "kernelspec": {
   "display_name": "Python 3",
   "language": "python",
   "name": "python3"
  },
  "language_info": {
   "codemirror_mode": {
    "name": "ipython",
    "version": 3
   },
   "file_extension": ".py",
   "mimetype": "text/x-python",
   "name": "python",
   "nbconvert_exporter": "python",
   "pygments_lexer": "ipython3",
   "version": "3.12.5"
  }
 },
 "nbformat": 4,
 "nbformat_minor": 2
}
