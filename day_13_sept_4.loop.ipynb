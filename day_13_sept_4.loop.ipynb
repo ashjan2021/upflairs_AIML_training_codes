{
 "cells": [
  {
   "cell_type": "code",
   "execution_count": 6,
   "metadata": {},
   "outputs": [
    {
     "name": "stdout",
     "output_type": "stream",
     "text": [
      "hello world\n"
     ]
    }
   ],
   "source": [
    "print(\"hello world\")"
   ]
  },
  {
   "cell_type": "markdown",
   "metadata": {},
   "source": [
    "<h2>List</h2>\n",
    "\n"
   ]
  },
  {
   "cell_type": "code",
   "execution_count": 30,
   "metadata": {},
   "outputs": [
    {
     "data": {
      "text/plain": [
       "['suresh', 'dharam']"
      ]
     },
     "execution_count": 30,
     "metadata": {},
     "output_type": "execute_result"
    }
   ],
   "source": [
    "# ls = ['rahul','mohit','suresh','dharam']\n",
    "# print(ls)\n",
    "# len(ls)\n",
    "# ls[2]\n",
    "# ls[-1]\n",
    "# ls[-2:]\n",
    "\n",
    "\n",
    "\n"
   ]
  },
  {
   "cell_type": "markdown",
   "metadata": {},
   "source": [
    "<h3>Dictionary</h3>"
   ]
  },
  {
   "cell_type": "code",
   "execution_count": 38,
   "metadata": {},
   "outputs": [
    {
     "name": "stdout",
     "output_type": "stream",
     "text": [
      "dict_values([10, 20, 30, 40])\n"
     ]
    }
   ],
   "source": [
    "dt = {'A':10,'B':20,'C':30,'D':40}\n",
    "# print(dt)\n",
    "# print(dt.keys())\n",
    "# print(dt.values())\n",
    "# print(dt['A'])\n"
   ]
  },
  {
   "cell_type": "code",
   "execution_count": 39,
   "metadata": {},
   "outputs": [],
   "source": [
    "dt['B'] = 50"
   ]
  },
  {
   "cell_type": "code",
   "execution_count": 40,
   "metadata": {},
   "outputs": [
    {
     "name": "stdout",
     "output_type": "stream",
     "text": [
      "50\n"
     ]
    }
   ],
   "source": [
    "print(dt['B'])"
   ]
  },
  {
   "cell_type": "code",
   "execution_count": 77,
   "metadata": {},
   "outputs": [
    {
     "name": "stdout",
     "output_type": "stream",
     "text": [
      "10\n",
      "dict_keys(['bharat', 'harsh sharma', 'harshita', 'jyoti'])\n",
      "dict_values([35, 10, 85, 41])\n",
      "11\n"
     ]
    }
   ],
   "source": [
    "student_marks = {'bharat':35,'harsh sharma':10,'harshita':85,'jyoti':41}\n",
    "print(student_marks['harsh sharma'])\n",
    "print(student_marks.keys())\n",
    "print(student_marks.values())\n",
    "student_marks['jyoti'] = 11\n",
    "print(student_marks['jyoti'])\n"
   ]
  },
  {
   "cell_type": "code",
   "execution_count": 81,
   "metadata": {},
   "outputs": [
    {
     "name": "stdout",
     "output_type": "stream",
     "text": [
      "{'bharat': 35, 'harsh sharma': 10, 'harshita': 85, 'ashish': 100}\n"
     ]
    }
   ],
   "source": [
    "student_marks['ashish'] = 100\n",
    "\n",
    "student_marks.pop('jyoti')\n",
    "print(student_marks)\n"
   ]
  },
  {
   "cell_type": "code",
   "execution_count": 83,
   "metadata": {},
   "outputs": [
    {
     "name": "stdout",
     "output_type": "stream",
     "text": [
      "{'bharat': 35, 'harsh sharma': 10, 'harshita': 85}\n"
     ]
    }
   ],
   "source": [
    "student_marks.popitem() #removes the last item from the dictionary\n",
    "print(student_marks)\n"
   ]
  },
  {
   "cell_type": "markdown",
   "metadata": {},
   "source": [
    "<h3>Loops</h3>"
   ]
  },
  {
   "cell_type": "code",
   "execution_count": null,
   "metadata": {},
   "outputs": [],
   "source": [
    "\n",
    "for var in range(1,10):\n",
    "    print(var)"
   ]
  },
  {
   "cell_type": "code",
   "execution_count": null,
   "metadata": {},
   "outputs": [],
   "source": [
    "for var in range(11):\n",
    "    print(var)"
   ]
  },
  {
   "cell_type": "code",
   "execution_count": null,
   "metadata": {},
   "outputs": [],
   "source": [
    "arr = [10,20,30,40,50,60]\n",
    "\n",
    "# for i in range(len(arr)):\n",
    "#     print(arr[i])\n",
    "\n",
    "for item in arr:\n",
    "    print(item)"
   ]
  },
  {
   "cell_type": "code",
   "execution_count": null,
   "metadata": {},
   "outputs": [],
   "source": [
    "for char in 'upflairs':\n",
    "    print(char)"
   ]
  },
  {
   "cell_type": "code",
   "execution_count": null,
   "metadata": {},
   "outputs": [],
   "source": [
    "st = 'upflairs'\n",
    "for char in st:\n",
    "    print(char)"
   ]
  },
  {
   "cell_type": "code",
   "execution_count": 102,
   "metadata": {},
   "outputs": [
    {
     "name": "stdout",
     "output_type": "stream",
     "text": [
      "[(0, 'u'), (1, 'p'), (2, 'f'), (3, 'l'), (4, 'a'), (5, 'i'), (6, 'r'), (7, 's')]\n"
     ]
    }
   ],
   "source": [
    "st = 'upflairs'\n",
    "print(list(enumerate(st)))"
   ]
  },
  {
   "cell_type": "code",
   "execution_count": 104,
   "metadata": {},
   "outputs": [
    {
     "name": "stdout",
     "output_type": "stream",
     "text": [
      "a 4\n"
     ]
    }
   ],
   "source": [
    "for i, char in enumerate(st):\n",
    "    if char=='a':\n",
    "        print(char,i)\n",
    "        break"
   ]
  },
  {
   "cell_type": "code",
   "execution_count": null,
   "metadata": {},
   "outputs": [],
   "source": []
  }
 ],
 "metadata": {
  "kernelspec": {
   "display_name": "Python 3",
   "language": "python",
   "name": "python3"
  },
  "language_info": {
   "codemirror_mode": {
    "name": "ipython",
    "version": 3
   },
   "file_extension": ".py",
   "mimetype": "text/x-python",
   "name": "python",
   "nbconvert_exporter": "python",
   "pygments_lexer": "ipython3",
   "version": "3.11.9"
  }
 },
 "nbformat": 4,
 "nbformat_minor": 2
}
