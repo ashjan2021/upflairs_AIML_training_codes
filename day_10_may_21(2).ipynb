{
 "cells": [
  {
   "cell_type": "code",
   "execution_count": 18,
   "id": "faed4e1d-7606-4c65-8d0e-7c8a11c6b8fc",
   "metadata": {},
   "outputs": [
    {
     "name": "stdout",
     "output_type": "stream",
     "text": [
      "already present\n"
     ]
    }
   ],
   "source": [
    "import os\n",
    "\n",
    "# pwd\n",
    "\n",
    "# os.getcwd()\n",
    "\n",
    "# os.listdir()   ## ls,dir\n",
    "\n",
    "\n",
    "# os.listdir(\"A:\\Photos\")  # return current working directory\n",
    "\n",
    "# os.chdir()       # change directory\n",
    "\n",
    "# mkdir testing\n",
    "# os.mkdir('testing')\n",
    "# os.makedirs('testing',exist_ok=True)\n",
    "\n",
    "# pwd\n",
    "\n",
    "# cd testing\n",
    "\n",
    "# cd..\n",
    "\n",
    "# os.chdir('testing')\n",
    "\n",
    "# file = open('demo.txt','x')\n",
    "# file.close()\n",
    "\n",
    "if os.path.exists('demo.txt'):\n",
    "    print(\"already present\")\n",
    "else:\n",
    "    file = open('demo.txt','x')\n",
    "    file.close()\n"
   ]
  },
  {
   "cell_type": "code",
   "execution_count": 9,
   "id": "913124a5-b80c-4822-a049-7d555a42aa7c",
   "metadata": {},
   "outputs": [
    {
     "data": {
      "text/plain": [
       "'C:\\\\Users\\\\ashis\\\\OneDrive\\\\Desktop\\\\upflairs AI-ML class notes'"
      ]
     },
     "execution_count": 9,
     "metadata": {},
     "output_type": "execute_result"
    }
   ],
   "source": [
    "pwd"
   ]
  },
  {
   "cell_type": "code",
   "execution_count": 10,
   "id": "3875f83d-9de9-4c50-98e7-3fa18a43f3ce",
   "metadata": {},
   "outputs": [],
   "source": [
    "desktop = r\"C:\\Users\\ashis\\OneDrive\\Desktop\"\n",
    "your_folder_path = r\"upflairs AI-ML class notes\\testing\""
   ]
  },
  {
   "cell_type": "code",
   "execution_count": 12,
   "id": "da5d1a4a-2f8f-47b9-a407-05cd193e6624",
   "metadata": {},
   "outputs": [],
   "source": [
    "complete_path = os.path.join(desktop,your_folder_path)"
   ]
  },
  {
   "cell_type": "code",
   "execution_count": 13,
   "id": "70a9d98c-0c4b-474c-aea5-b682bcccc985",
   "metadata": {},
   "outputs": [
    {
     "data": {
      "text/plain": [
       "'C:\\\\Users\\\\ashis\\\\OneDrive\\\\Desktop\\\\upflairs AI-ML class notes\\\\testing'"
      ]
     },
     "execution_count": 13,
     "metadata": {},
     "output_type": "execute_result"
    }
   ],
   "source": [
    "complete_path"
   ]
  },
  {
   "cell_type": "code",
   "execution_count": 19,
   "id": "da7a321e-93ec-4cda-a97c-3ed1e4b30250",
   "metadata": {},
   "outputs": [
    {
     "data": {
      "text/plain": [
       "[]"
      ]
     },
     "execution_count": 19,
     "metadata": {},
     "output_type": "execute_result"
    }
   ],
   "source": [
    "os.listdir(complete_path)"
   ]
  },
  {
   "cell_type": "code",
   "execution_count": 20,
   "id": "6444888c-0a5f-45c1-a2f5-3a540585c4e1",
   "metadata": {},
   "outputs": [
    {
     "name": "stdout",
     "output_type": "stream",
     "text": [
      "hari ram mohan \target \n",
      "ested loop we are learning\n"
     ]
    }
   ],
   "source": [
    "name = \"hari ram mohan \\target \\nested loop we are learning\"\n",
    "print(name)"
   ]
  },
  {
   "cell_type": "code",
   "execution_count": 21,
   "id": "94642314-d995-49b6-b997-ede5d56dcc73",
   "metadata": {},
   "outputs": [
    {
     "name": "stdout",
     "output_type": "stream",
     "text": [
      "hari ram mohan \\target \\nested loop we are learning\n"
     ]
    }
   ],
   "source": [
    "name = r\"hari ram mohan \\target \\nested loop we are learning\"       # raw string\n",
    "print(name)"
   ]
  },
  {
   "cell_type": "code",
   "execution_count": 23,
   "id": "9a3d76ce-035d-4125-a598-c1f449c9ce67",
   "metadata": {},
   "outputs": [],
   "source": [
    "class Student:\n",
    "    # class properties\n",
    "    # attributes (variables) , methods\n",
    "    student_name = \"ashish jangid\"\n",
    "    student_branch = \"it\"\n",
    "    student_roll_no = 31"
   ]
  },
  {
   "cell_type": "code",
   "execution_count": 26,
   "id": "19f24158-820b-42f6-9dfe-e9ad14aa4e62",
   "metadata": {},
   "outputs": [],
   "source": [
    "obj = Student()   # object creation"
   ]
  },
  {
   "cell_type": "code",
   "execution_count": 27,
   "id": "20dfa78a-891d-4f36-b7aa-0f618e692cb6",
   "metadata": {},
   "outputs": [
    {
     "name": "stdout",
     "output_type": "stream",
     "text": [
      "ashish jangid\n"
     ]
    }
   ],
   "source": [
    "print(obj.student_name)"
   ]
  },
  {
   "cell_type": "code",
   "execution_count": 1,
   "id": "e510fdec-e835-41da-b8f8-48b8dacfc2d5",
   "metadata": {},
   "outputs": [
    {
     "name": "stdout",
     "output_type": "stream",
     "text": [
      "constructor is executed\n"
     ]
    }
   ],
   "source": [
    "\n",
    "class Student:\n",
    "    # class properties\n",
    "    # attributes (variables) , methods\n",
    "    student_name = \"ashish jangid\"\n",
    "    student_branch = \"it\"\n",
    "    student_roll_no = 31\n",
    "    def __init__(self):      # name of constructor is __init__     #  self is like a pointer . it holds address of object.   ## constructor is used to initialize the variables\n",
    "        # instance variable\n",
    "        self.college_name = \"jecrc\"\n",
    "        self.college_city = \"jaipur\"\n",
    "        print(\"constructor is executed\")\n",
    "\n",
    "obj = Student()\n"
   ]
  },
  {
   "cell_type": "code",
   "execution_count": 2,
   "id": "ad885460-bf1c-4eee-850d-1a899b15affb",
   "metadata": {},
   "outputs": [
    {
     "name": "stdout",
     "output_type": "stream",
     "text": [
      "ashish jangid\n",
      "jecrc\n"
     ]
    }
   ],
   "source": [
    "\n",
    "print(obj.student_name)\n",
    "\n",
    "print(obj.college_name)"
   ]
  },
  {
   "cell_type": "code",
   "execution_count": 3,
   "id": "ba978231-f056-4823-9e67-9423cf5ffa5c",
   "metadata": {},
   "outputs": [
    {
     "name": "stdout",
     "output_type": "stream",
     "text": [
      "constructor is executed\n"
     ]
    }
   ],
   "source": [
    "obj2 = Student()"
   ]
  },
  {
   "cell_type": "code",
   "execution_count": 4,
   "id": "254895f6-797a-48d7-bcaf-1dacd77d7e9a",
   "metadata": {},
   "outputs": [
    {
     "data": {
      "text/plain": [
       "'jecrc'"
      ]
     },
     "execution_count": 4,
     "metadata": {},
     "output_type": "execute_result"
    }
   ],
   "source": [
    "obj2.college_name\n"
   ]
  },
  {
   "cell_type": "code",
   "execution_count": null,
   "id": "84fae59e-aab8-403a-b518-beb1d6c95dac",
   "metadata": {},
   "outputs": [],
   "source": []
  }
 ],
 "metadata": {
  "kernelspec": {
   "display_name": "Python 3 (ipykernel)",
   "language": "python",
   "name": "python3"
  },
  "language_info": {
   "codemirror_mode": {
    "name": "ipython",
    "version": 3
   },
   "file_extension": ".py",
   "mimetype": "text/x-python",
   "name": "python",
   "nbconvert_exporter": "python",
   "pygments_lexer": "ipython3",
   "version": "3.11.9"
  }
 },
 "nbformat": 4,
 "nbformat_minor": 5
}
