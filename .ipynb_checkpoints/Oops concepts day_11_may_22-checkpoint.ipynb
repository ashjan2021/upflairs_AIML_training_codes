{
 "cells": [
  {
   "cell_type": "code",
   "execution_count": 15,
   "id": "467335e7-d229-4290-bfa5-ab1bfec92a36",
   "metadata": {},
   "outputs": [
    {
     "name": "stdout",
     "output_type": "stream",
     "text": [
      "constructor is executed\n",
      "constructor is executed\n"
     ]
    },
    {
     "data": {
      "text/plain": [
       "'poornima'"
      ]
     },
     "execution_count": 15,
     "metadata": {},
     "output_type": "execute_result"
    }
   ],
   "source": [
    "class Student:\n",
    "    # class properties\n",
    "    # attributes (variables) , methods\n",
    "    student_name = \"ashish jangid\"\n",
    "    student_branch = \"it\"\n",
    "    student_roll_no = 31\n",
    "    def __init__(self,name,city):      # name of constructor is __init__     #  self is like a pointer . it holds address of object.   ## constructor is used to initialize the variables\n",
    "        # instance variable\n",
    "        self.college_name = name\n",
    "        self.college_city = city\n",
    "        print(\"constructor is executed\")\n",
    "\n",
    "obj = Student(name=\"jecrc\",city=\"jaipur\")\n",
    "obj.college_name\n"
   ]
  },
  {
   "cell_type": "code",
   "execution_count": 11,
   "id": "0fdf51d5-5dfb-44d5-be09-be851913bf91",
   "metadata": {},
   "outputs": [
    {
     "name": "stdout",
     "output_type": "stream",
     "text": [
      "constructor is executed\n"
     ]
    },
    {
     "data": {
      "text/plain": [
       "'poornima'"
      ]
     },
     "execution_count": 11,
     "metadata": {},
     "output_type": "execute_result"
    }
   ],
   "source": [
    "obj2 = Student(name = \"poornima\",city = \"goner jaipur\")\n",
    "obj2.college_name"
   ]
  },
  {
   "cell_type": "code",
   "execution_count": 26,
   "id": "99b561fe-0b56-4f7b-a981-76025d72d843",
   "metadata": {},
   "outputs": [],
   "source": [
    "class Student:\n",
    "    # class properties\n",
    "    # attributes (variables) , methods\n",
    "    student_name = \"ashish jangid\"\n",
    "    student_branch = \"it\"\n",
    "    student_roll_no = 31\n",
    "    def __init__(self,name,city):      # name of constructor is __init__     #  self is like a pointer . it holds address of object.   ## constructor is used to initialize the variables\n",
    "        # instance variable\n",
    "        self.college_name = name\n",
    "        self.college_city = city\n",
    "        print(\"constructor is executed\")\n",
    "    def display(self):\n",
    "        print(self.college_name)\n",
    "        print(self.college_city)"
   ]
  },
  {
   "cell_type": "code",
   "execution_count": 28,
   "id": "46e461df-09d0-44fc-bebc-9db8f28d9001",
   "metadata": {},
   "outputs": [
    {
     "name": "stdout",
     "output_type": "stream",
     "text": [
      "constructor is executed\n"
     ]
    }
   ],
   "source": [
    "obj = Student(name=\"jecrc\",city=\"jaipur\")"
   ]
  },
  {
   "cell_type": "code",
   "execution_count": 29,
   "id": "909e071f-5778-4e3a-a613-d89beacea4d2",
   "metadata": {},
   "outputs": [
    {
     "name": "stdout",
     "output_type": "stream",
     "text": [
      "jecrc\n",
      "jaipur\n"
     ]
    }
   ],
   "source": [
    "obj.display()"
   ]
  },
  {
   "cell_type": "code",
   "execution_count": 46,
   "id": "82ee8c09-acb6-47e4-ab9e-60542e0e41ee",
   "metadata": {},
   "outputs": [],
   "source": [
    "# class method\n",
    "class Student:\n",
    "    stu_name = 'mohit sharma'\n",
    "    stu_roll_no = 21\n",
    "\n",
    "\n",
    "    @classmethod          #deporator     # class method used when we have to deal with class variables.\n",
    "    def display(cls):\n",
    "        print(cls.stu_name)\n",
    "        print(cls.stu_roll_no)\n",
    "\n",
    "obj = Student()"
   ]
  },
  {
   "cell_type": "code",
   "execution_count": 47,
   "id": "08f463f1-f65a-40fc-9d65-deef7782ae85",
   "metadata": {},
   "outputs": [
    {
     "name": "stdout",
     "output_type": "stream",
     "text": [
      "mohit sharma\n",
      "21\n"
     ]
    }
   ],
   "source": [
    "Studentdiplay(()\n",
    "# obj.display()"
   ]
  },
  {
   "cell_type": "code",
   "execution_count": 48,
   "id": "bed4fe41-858f-44d5-8315-93970411a5d6",
   "metadata": {},
   "outputs": [
    {
     "data": {
      "text/plain": [
       "'mohit sharma'"
      ]
     },
     "execution_count": 48,
     "metadata": {},
     "output_type": "execute_result"
    }
   ],
   "source": [
    "Student.stu_name   # accessing class variable without creating object"
   ]
  },
  {
   "cell_type": "code",
   "execution_count": 10,
   "id": "6050457a-2879-4cc0-b72d-b01bc649e5f2",
   "metadata": {},
   "outputs": [
    {
     "name": "stdout",
     "output_type": "stream",
     "text": [
      "5\n"
     ]
    }
   ],
   "source": [
    "class AB:\n",
    "    def __init__(self):\n",
    "        self.ls = [21,41,52,63,96,85,74,75,84,96,36,251,452,45,142]\n",
    "\n",
    "    # # Sum = 0\n",
    "    # def average_finder(self):\n",
    "    #     Sum = 0\n",
    "    #     for i in self.ls:\n",
    "    #         Sum += i\n",
    "    #     avg = Sum/len(self.ls)\n",
    "    #     return avg\n",
    "# obj = AB()\n",
    "# obj.average_finder()\n",
    "\n",
    "    # def position_finder(self,target):\n",
    "    #     for i in range(len(self.ls)):\n",
    "    #         if target in self.ls:\n",
    "    #             print(i)\n",
    "\n",
    "\n",
    "    def position_finder(self,target):\n",
    "        for i in range(len(self.ls)):\n",
    "            if self.ls[i] == target:\n",
    "                print(i)\n",
    "                \n",
    "\n",
    "\n",
    "obj = AB()\n",
    "obj.position_finder(85)\n"
   ]
  },
  {
   "cell_type": "markdown",
   "id": "32372637-58cd-400e-9315-9f1311bc9b5d",
   "metadata": {},
   "source": [
    "<h2>Inheritance</h2>"
   ]
  },
  {
   "cell_type": "code",
   "execution_count": 4,
   "id": "5dbe6f6b-bbf0-4345-b1ad-de533f9a8856",
   "metadata": {},
   "outputs": [],
   "source": [
    "1.Single \n",
    "2.Multiple\n",
    "3.Multilevel\n",
    "4.Hybrid\n",
    "5.Heirarchical\n",
    "\n",
    "\n",
    "\n",
    "class A:\n",
    "    var_a = \"hii from A\"\n",
    "class B:\n",
    "    var_b = \"hii from B\""
   ]
  },
  {
   "cell_type": "code",
   "execution_count": 5,
   "id": "4d2f0d65-d459-4695-b882-38ce8295836a",
   "metadata": {},
   "outputs": [],
   "source": [
    "obj_a = A()\n",
    "obj_b = B()"
   ]
  },
  {
   "cell_type": "code",
   "execution_count": 8,
   "id": "b34c542d-d922-46bf-bbdb-65197efd1488",
   "metadata": {},
   "outputs": [
    {
     "data": {
      "text/plain": [
       "'hii from B'"
      ]
     },
     "execution_count": 8,
     "metadata": {},
     "output_type": "execute_result"
    }
   ],
   "source": [
    "obj_b.var_b"
   ]
  },
  {
   "cell_type": "code",
   "execution_count": 52,
   "id": "7d290f1e-0679-4bf3-a058-06e7e85fcffe",
   "metadata": {},
   "outputs": [
    {
     "name": "stdout",
     "output_type": "stream",
     "text": [
      "My father name is :  Mahaveer\n",
      "Age of my father :  45\n",
      "\n",
      "My name is :  ritik\n",
      "My age is :  21\n"
     ]
    }
   ],
   "source": [
    "# inheritance with constructor\n",
    "class Father:\n",
    "    def __init__(self,name,age):\n",
    "        self.father_name = name\n",
    "        self.father_age = age\n",
    "\n",
    "    def father_biodata(self):\n",
    "        print(\"My father name is : \",self.father_name)\n",
    "        print(\"Age of my father : \",self.father_age)\n",
    "\n",
    "\n",
    "# father_obj = Father(\"Mahaveer\",45)\n",
    "# obj.father_biodata()\n",
    "\n",
    "class Son(Father):\n",
    "    son_name = \"ritik\"\n",
    "    son_age = 21\n",
    "    def son_biodata(self):\n",
    "        print(\"My name is : \",self.son_name)\n",
    "        print(\"My age is : \",self.son_age)\n",
    "\n",
    "    def full_intro(self):\n",
    "        #father details\n",
    "        #son details\n",
    "        self.father_biodata()\n",
    "        print()\n",
    "        self.son_biodata()\n",
    "\n",
    "        \n",
    "        \n",
    "\n",
    "\n",
    "son_obj = Son(name = 'Mahaveer',age=45)\n",
    "# son_obj.son_biodata()\n",
    "# son_obj.father_biodata()\n",
    "son_obj.full_intro()\n"
   ]
  },
  {
   "cell_type": "code",
   "execution_count": null,
   "id": "3604e488-7e12-428e-bccb-8e336f9d56e0",
   "metadata": {},
   "outputs": [],
   "source": []
  }
 ],
 "metadata": {
  "kernelspec": {
   "display_name": "Python 3 (ipykernel)",
   "language": "python",
   "name": "python3"
  },
  "language_info": {
   "codemirror_mode": {
    "name": "ipython",
    "version": 3
   },
   "file_extension": ".py",
   "mimetype": "text/x-python",
   "name": "python",
   "nbconvert_exporter": "python",
   "pygments_lexer": "ipython3",
   "version": "3.12.3"
  }
 },
 "nbformat": 4,
 "nbformat_minor": 5
}
